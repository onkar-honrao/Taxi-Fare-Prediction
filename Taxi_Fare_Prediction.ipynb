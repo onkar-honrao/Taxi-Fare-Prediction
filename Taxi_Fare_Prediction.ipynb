{
 "cells": [
  {
   "cell_type": "markdown",
   "metadata": {},
   "source": [
    "# Taxi Fare Prediction"
   ]
  },
  {
   "cell_type": "markdown",
   "metadata": {},
   "source": [
    "In the last few years, the number of for-hire vehicles operating in NY has grown from \n",
    "63,000 to more than 100,000. However, while the number of trips in app-based vehicles \n",
    "has increased from 6 million to 17 million a year, taxi trips have fallen from 11 million \n",
    "to 8.5 million. Hence, the NY Yellow Cab organization decided to become more data centric. Then we have apps like Uber, OLA, Lyft, Gett, etc. how do these apps work? After \n",
    "all, that set price is not a random guess."
   ]
  },
  {
   "cell_type": "markdown",
   "metadata": {},
   "source": [
    "## Problem Statement:\n",
    "Given pickup and dropoff locations, the pickup timestamp, and the passenger count, the \n",
    "objective is to predict the fare of the taxi ride."
   ]
  },
  {
   "cell_type": "markdown",
   "metadata": {},
   "source": [
    "## Dataset Information: \n",
    "\n",
    "* unique_id:-  A unique identifier or key for each record in the dataset\n",
    "\n",
    "* date_time_of_pickup:-  The time when the ride started\n",
    "\n",
    "* longitude_of_pickup:-  Longitude of the taxi ride pickup point\n",
    "\n",
    "* latitude_of_pickup:-  Latitude of the taxi ride pickup point\n",
    "\n",
    "* longitude__of_dropoff:-  Longitude of the taxi ride dropoff point\n",
    "\n",
    "* latitude_of_dropoff:-  Latitude of the taxi ride dropoff point\n",
    "\n",
    "* no_of_passenger:-  count of the passengers during the ride\n",
    "\n",
    "* amount (target variable):-  dollar amount of the cost of the taxi ride\n"
   ]
  },
  {
   "cell_type": "markdown",
   "metadata": {},
   "source": [
    "#### Importing Data"
   ]
  },
  {
   "cell_type": "code",
   "execution_count": 70,
   "metadata": {},
   "outputs": [],
   "source": [
    "import pandas as pd\n",
    "import numpy as np"
   ]
  },
  {
   "cell_type": "code",
   "execution_count": 71,
   "metadata": {},
   "outputs": [],
   "source": [
    "data=pd.read_csv('C:/Users/admin/Desktop/Imarticus/Machine learning DataSets/Taxi Fare Prediction/Dataset/taxi_fare_prediction_2.csv')"
   ]
  },
  {
   "cell_type": "code",
   "execution_count": 72,
   "metadata": {},
   "outputs": [
    {
     "data": {
      "text/html": [
       "<div>\n",
       "<style scoped>\n",
       "    .dataframe tbody tr th:only-of-type {\n",
       "        vertical-align: middle;\n",
       "    }\n",
       "\n",
       "    .dataframe tbody tr th {\n",
       "        vertical-align: top;\n",
       "    }\n",
       "\n",
       "    .dataframe thead th {\n",
       "        text-align: right;\n",
       "    }\n",
       "</style>\n",
       "<table border=\"1\" class=\"dataframe\">\n",
       "  <thead>\n",
       "    <tr style=\"text-align: right;\">\n",
       "      <th></th>\n",
       "      <th>Unnamed: 0</th>\n",
       "      <th>unique_id</th>\n",
       "      <th>amount</th>\n",
       "      <th>date_time_of_pickup</th>\n",
       "      <th>longitude_of_pickup</th>\n",
       "      <th>latitude_of_pickup</th>\n",
       "      <th>longitude_of_dropoff</th>\n",
       "      <th>latitude_of_dropoff</th>\n",
       "      <th>no_of_passenger</th>\n",
       "    </tr>\n",
       "  </thead>\n",
       "  <tbody>\n",
       "    <tr>\n",
       "      <th>0</th>\n",
       "      <td>0</td>\n",
       "      <td>26:21.0</td>\n",
       "      <td>4.5</td>\n",
       "      <td>2009-06-15 17:26:21 UTC</td>\n",
       "      <td>-73.844311</td>\n",
       "      <td>40.721319</td>\n",
       "      <td>-73.841610</td>\n",
       "      <td>40.712278</td>\n",
       "      <td>1</td>\n",
       "    </tr>\n",
       "    <tr>\n",
       "      <th>1</th>\n",
       "      <td>1</td>\n",
       "      <td>52:16.0</td>\n",
       "      <td>16.9</td>\n",
       "      <td>2010-01-05 16:52:16 UTC</td>\n",
       "      <td>-74.016048</td>\n",
       "      <td>40.711303</td>\n",
       "      <td>-73.979268</td>\n",
       "      <td>40.782004</td>\n",
       "      <td>1</td>\n",
       "    </tr>\n",
       "    <tr>\n",
       "      <th>2</th>\n",
       "      <td>2</td>\n",
       "      <td>35:00.0</td>\n",
       "      <td>5.7</td>\n",
       "      <td>2011-08-18 00:35:00 UTC</td>\n",
       "      <td>-73.982738</td>\n",
       "      <td>40.761270</td>\n",
       "      <td>-73.991242</td>\n",
       "      <td>40.750562</td>\n",
       "      <td>2</td>\n",
       "    </tr>\n",
       "    <tr>\n",
       "      <th>3</th>\n",
       "      <td>3</td>\n",
       "      <td>30:42.0</td>\n",
       "      <td>7.7</td>\n",
       "      <td>2012-04-21 04:30:42 UTC</td>\n",
       "      <td>-73.987130</td>\n",
       "      <td>40.733143</td>\n",
       "      <td>-73.991567</td>\n",
       "      <td>40.758092</td>\n",
       "      <td>1</td>\n",
       "    </tr>\n",
       "    <tr>\n",
       "      <th>4</th>\n",
       "      <td>4</td>\n",
       "      <td>51:00.0</td>\n",
       "      <td>5.3</td>\n",
       "      <td>2010-03-09 07:51:00 UTC</td>\n",
       "      <td>-73.968095</td>\n",
       "      <td>40.768008</td>\n",
       "      <td>-73.956655</td>\n",
       "      <td>40.783762</td>\n",
       "      <td>1</td>\n",
       "    </tr>\n",
       "  </tbody>\n",
       "</table>\n",
       "</div>"
      ],
      "text/plain": [
       "   Unnamed: 0 unique_id  amount      date_time_of_pickup  longitude_of_pickup  \\\n",
       "0           0   26:21.0     4.5  2009-06-15 17:26:21 UTC           -73.844311   \n",
       "1           1   52:16.0    16.9  2010-01-05 16:52:16 UTC           -74.016048   \n",
       "2           2   35:00.0     5.7  2011-08-18 00:35:00 UTC           -73.982738   \n",
       "3           3   30:42.0     7.7  2012-04-21 04:30:42 UTC           -73.987130   \n",
       "4           4   51:00.0     5.3  2010-03-09 07:51:00 UTC           -73.968095   \n",
       "\n",
       "   latitude_of_pickup  longitude_of_dropoff  latitude_of_dropoff  \\\n",
       "0           40.721319            -73.841610            40.712278   \n",
       "1           40.711303            -73.979268            40.782004   \n",
       "2           40.761270            -73.991242            40.750562   \n",
       "3           40.733143            -73.991567            40.758092   \n",
       "4           40.768008            -73.956655            40.783762   \n",
       "\n",
       "   no_of_passenger  \n",
       "0                1  \n",
       "1                1  \n",
       "2                2  \n",
       "3                1  \n",
       "4                1  "
      ]
     },
     "execution_count": 72,
     "metadata": {},
     "output_type": "execute_result"
    }
   ],
   "source": [
    "data.head()"
   ]
  },
  {
   "cell_type": "code",
   "execution_count": 73,
   "metadata": {},
   "outputs": [
    {
     "data": {
      "text/html": [
       "<div>\n",
       "<style scoped>\n",
       "    .dataframe tbody tr th:only-of-type {\n",
       "        vertical-align: middle;\n",
       "    }\n",
       "\n",
       "    .dataframe tbody tr th {\n",
       "        vertical-align: top;\n",
       "    }\n",
       "\n",
       "    .dataframe thead th {\n",
       "        text-align: right;\n",
       "    }\n",
       "</style>\n",
       "<table border=\"1\" class=\"dataframe\">\n",
       "  <thead>\n",
       "    <tr style=\"text-align: right;\">\n",
       "      <th></th>\n",
       "      <th>Unnamed: 0</th>\n",
       "      <th>unique_id</th>\n",
       "      <th>amount</th>\n",
       "      <th>date_time_of_pickup</th>\n",
       "      <th>longitude_of_pickup</th>\n",
       "      <th>latitude_of_pickup</th>\n",
       "      <th>longitude_of_dropoff</th>\n",
       "      <th>latitude_of_dropoff</th>\n",
       "      <th>no_of_passenger</th>\n",
       "    </tr>\n",
       "  </thead>\n",
       "  <tbody>\n",
       "    <tr>\n",
       "      <th>10995</th>\n",
       "      <td>10995</td>\n",
       "      <td>23:48.0</td>\n",
       "      <td>2.9</td>\n",
       "      <td>2010-03-31 09:23:48 UTC</td>\n",
       "      <td>-74.016935</td>\n",
       "      <td>40.707520</td>\n",
       "      <td>-74.016073</td>\n",
       "      <td>40.711157</td>\n",
       "      <td>1</td>\n",
       "    </tr>\n",
       "    <tr>\n",
       "      <th>10996</th>\n",
       "      <td>10996</td>\n",
       "      <td>45:10.0</td>\n",
       "      <td>14.1</td>\n",
       "      <td>2012-03-31 22:45:10 UTC</td>\n",
       "      <td>-73.970027</td>\n",
       "      <td>40.752950</td>\n",
       "      <td>-74.015258</td>\n",
       "      <td>40.709115</td>\n",
       "      <td>4</td>\n",
       "    </tr>\n",
       "    <tr>\n",
       "      <th>10997</th>\n",
       "      <td>10997</td>\n",
       "      <td>36:00.0</td>\n",
       "      <td>4.5</td>\n",
       "      <td>2009-04-29 23:36:00 UTC</td>\n",
       "      <td>-73.986190</td>\n",
       "      <td>40.763322</td>\n",
       "      <td>-73.981965</td>\n",
       "      <td>40.771845</td>\n",
       "      <td>5</td>\n",
       "    </tr>\n",
       "    <tr>\n",
       "      <th>10998</th>\n",
       "      <td>10998</td>\n",
       "      <td>29:00.0</td>\n",
       "      <td>10.1</td>\n",
       "      <td>2009-09-15 21:29:00 UTC</td>\n",
       "      <td>-73.970222</td>\n",
       "      <td>40.793992</td>\n",
       "      <td>-73.939247</td>\n",
       "      <td>40.816070</td>\n",
       "      <td>1</td>\n",
       "    </tr>\n",
       "    <tr>\n",
       "      <th>10999</th>\n",
       "      <td>10999</td>\n",
       "      <td>04:26.0</td>\n",
       "      <td>9.7</td>\n",
       "      <td>2010-09-24 11:04:26 UTC</td>\n",
       "      <td>-73.999456</td>\n",
       "      <td>40.749233</td>\n",
       "      <td>-73.979556</td>\n",
       "      <td>40.751775</td>\n",
       "      <td>1</td>\n",
       "    </tr>\n",
       "  </tbody>\n",
       "</table>\n",
       "</div>"
      ],
      "text/plain": [
       "       Unnamed: 0 unique_id  amount      date_time_of_pickup  \\\n",
       "10995       10995   23:48.0     2.9  2010-03-31 09:23:48 UTC   \n",
       "10996       10996   45:10.0    14.1  2012-03-31 22:45:10 UTC   \n",
       "10997       10997   36:00.0     4.5  2009-04-29 23:36:00 UTC   \n",
       "10998       10998   29:00.0    10.1  2009-09-15 21:29:00 UTC   \n",
       "10999       10999   04:26.0     9.7  2010-09-24 11:04:26 UTC   \n",
       "\n",
       "       longitude_of_pickup  latitude_of_pickup  longitude_of_dropoff  \\\n",
       "10995           -74.016935           40.707520            -74.016073   \n",
       "10996           -73.970027           40.752950            -74.015258   \n",
       "10997           -73.986190           40.763322            -73.981965   \n",
       "10998           -73.970222           40.793992            -73.939247   \n",
       "10999           -73.999456           40.749233            -73.979556   \n",
       "\n",
       "       latitude_of_dropoff  no_of_passenger  \n",
       "10995            40.711157                1  \n",
       "10996            40.709115                4  \n",
       "10997            40.771845                5  \n",
       "10998            40.816070                1  \n",
       "10999            40.751775                1  "
      ]
     },
     "execution_count": 73,
     "metadata": {},
     "output_type": "execute_result"
    }
   ],
   "source": [
    "data.tail()"
   ]
  },
  {
   "cell_type": "code",
   "execution_count": 74,
   "metadata": {},
   "outputs": [
    {
     "name": "stdout",
     "output_type": "stream",
     "text": [
      "<class 'pandas.core.frame.DataFrame'>\n",
      "RangeIndex: 11000 entries, 0 to 10999\n",
      "Data columns (total 9 columns):\n",
      " #   Column                Non-Null Count  Dtype  \n",
      "---  ------                --------------  -----  \n",
      " 0   Unnamed: 0            11000 non-null  int64  \n",
      " 1   unique_id             11000 non-null  object \n",
      " 2   amount                11000 non-null  float64\n",
      " 3   date_time_of_pickup   11000 non-null  object \n",
      " 4   longitude_of_pickup   10983 non-null  float64\n",
      " 5   latitude_of_pickup    10986 non-null  float64\n",
      " 6   longitude_of_dropoff  10986 non-null  float64\n",
      " 7   latitude_of_dropoff   10989 non-null  float64\n",
      " 8   no_of_passenger       11000 non-null  int64  \n",
      "dtypes: float64(5), int64(2), object(2)\n",
      "memory usage: 773.6+ KB\n"
     ]
    }
   ],
   "source": [
    "data.info()"
   ]
  },
  {
   "cell_type": "code",
   "execution_count": 75,
   "metadata": {},
   "outputs": [
    {
     "data": {
      "text/html": [
       "<div>\n",
       "<style scoped>\n",
       "    .dataframe tbody tr th:only-of-type {\n",
       "        vertical-align: middle;\n",
       "    }\n",
       "\n",
       "    .dataframe tbody tr th {\n",
       "        vertical-align: top;\n",
       "    }\n",
       "\n",
       "    .dataframe thead th {\n",
       "        text-align: right;\n",
       "    }\n",
       "</style>\n",
       "<table border=\"1\" class=\"dataframe\">\n",
       "  <thead>\n",
       "    <tr style=\"text-align: right;\">\n",
       "      <th></th>\n",
       "      <th>Unnamed: 0</th>\n",
       "      <th>amount</th>\n",
       "      <th>longitude_of_pickup</th>\n",
       "      <th>latitude_of_pickup</th>\n",
       "      <th>longitude_of_dropoff</th>\n",
       "      <th>latitude_of_dropoff</th>\n",
       "      <th>no_of_passenger</th>\n",
       "    </tr>\n",
       "  </thead>\n",
       "  <tbody>\n",
       "    <tr>\n",
       "      <th>count</th>\n",
       "      <td>11000.000000</td>\n",
       "      <td>11000.000000</td>\n",
       "      <td>10983.000000</td>\n",
       "      <td>10986.000000</td>\n",
       "      <td>10986.000000</td>\n",
       "      <td>10989.000000</td>\n",
       "      <td>11000.000000</td>\n",
       "    </tr>\n",
       "    <tr>\n",
       "      <th>mean</th>\n",
       "      <td>5499.500000</td>\n",
       "      <td>11.241357</td>\n",
       "      <td>-72.584572</td>\n",
       "      <td>39.969676</td>\n",
       "      <td>-72.557885</td>\n",
       "      <td>39.926788</td>\n",
       "      <td>1.641000</td>\n",
       "    </tr>\n",
       "    <tr>\n",
       "      <th>std</th>\n",
       "      <td>3175.570815</td>\n",
       "      <td>9.590382</td>\n",
       "      <td>10.213980</td>\n",
       "      <td>7.111952</td>\n",
       "      <td>10.301132</td>\n",
       "      <td>6.255057</td>\n",
       "      <td>1.268676</td>\n",
       "    </tr>\n",
       "    <tr>\n",
       "      <th>min</th>\n",
       "      <td>0.000000</td>\n",
       "      <td>-2.900000</td>\n",
       "      <td>-74.438233</td>\n",
       "      <td>-74.006893</td>\n",
       "      <td>-74.429332</td>\n",
       "      <td>-74.006377</td>\n",
       "      <td>0.000000</td>\n",
       "    </tr>\n",
       "    <tr>\n",
       "      <th>25%</th>\n",
       "      <td>2749.750000</td>\n",
       "      <td>6.000000</td>\n",
       "      <td>-73.992135</td>\n",
       "      <td>40.734721</td>\n",
       "      <td>-73.991112</td>\n",
       "      <td>40.735222</td>\n",
       "      <td>1.000000</td>\n",
       "    </tr>\n",
       "    <tr>\n",
       "      <th>50%</th>\n",
       "      <td>5499.500000</td>\n",
       "      <td>8.500000</td>\n",
       "      <td>-73.981807</td>\n",
       "      <td>40.752732</td>\n",
       "      <td>-73.980118</td>\n",
       "      <td>40.753895</td>\n",
       "      <td>1.000000</td>\n",
       "    </tr>\n",
       "    <tr>\n",
       "      <th>75%</th>\n",
       "      <td>8249.250000</td>\n",
       "      <td>12.500000</td>\n",
       "      <td>-73.967047</td>\n",
       "      <td>40.767500</td>\n",
       "      <td>-73.963695</td>\n",
       "      <td>40.768262</td>\n",
       "      <td>2.000000</td>\n",
       "    </tr>\n",
       "    <tr>\n",
       "      <th>max</th>\n",
       "      <td>10999.000000</td>\n",
       "      <td>180.000000</td>\n",
       "      <td>40.766125</td>\n",
       "      <td>401.083332</td>\n",
       "      <td>40.802437</td>\n",
       "      <td>41.366138</td>\n",
       "      <td>6.000000</td>\n",
       "    </tr>\n",
       "  </tbody>\n",
       "</table>\n",
       "</div>"
      ],
      "text/plain": [
       "         Unnamed: 0        amount  longitude_of_pickup  latitude_of_pickup  \\\n",
       "count  11000.000000  11000.000000         10983.000000        10986.000000   \n",
       "mean    5499.500000     11.241357           -72.584572           39.969676   \n",
       "std     3175.570815      9.590382            10.213980            7.111952   \n",
       "min        0.000000     -2.900000           -74.438233          -74.006893   \n",
       "25%     2749.750000      6.000000           -73.992135           40.734721   \n",
       "50%     5499.500000      8.500000           -73.981807           40.752732   \n",
       "75%     8249.250000     12.500000           -73.967047           40.767500   \n",
       "max    10999.000000    180.000000            40.766125          401.083332   \n",
       "\n",
       "       longitude_of_dropoff  latitude_of_dropoff  no_of_passenger  \n",
       "count          10986.000000         10989.000000     11000.000000  \n",
       "mean             -72.557885            39.926788         1.641000  \n",
       "std               10.301132             6.255057         1.268676  \n",
       "min              -74.429332           -74.006377         0.000000  \n",
       "25%              -73.991112            40.735222         1.000000  \n",
       "50%              -73.980118            40.753895         1.000000  \n",
       "75%              -73.963695            40.768262         2.000000  \n",
       "max               40.802437            41.366138         6.000000  "
      ]
     },
     "execution_count": 75,
     "metadata": {},
     "output_type": "execute_result"
    }
   ],
   "source": [
    "data.describe()"
   ]
  },
  {
   "cell_type": "code",
   "execution_count": 76,
   "metadata": {},
   "outputs": [
    {
     "data": {
      "text/html": [
       "<div>\n",
       "<style scoped>\n",
       "    .dataframe tbody tr th:only-of-type {\n",
       "        vertical-align: middle;\n",
       "    }\n",
       "\n",
       "    .dataframe tbody tr th {\n",
       "        vertical-align: top;\n",
       "    }\n",
       "\n",
       "    .dataframe thead th {\n",
       "        text-align: right;\n",
       "    }\n",
       "</style>\n",
       "<table border=\"1\" class=\"dataframe\">\n",
       "  <thead>\n",
       "    <tr style=\"text-align: right;\">\n",
       "      <th></th>\n",
       "      <th>unique_id</th>\n",
       "      <th>date_time_of_pickup</th>\n",
       "    </tr>\n",
       "  </thead>\n",
       "  <tbody>\n",
       "    <tr>\n",
       "      <th>count</th>\n",
       "      <td>11000</td>\n",
       "      <td>11000</td>\n",
       "    </tr>\n",
       "    <tr>\n",
       "      <th>unique</th>\n",
       "      <td>2975</td>\n",
       "      <td>10982</td>\n",
       "    </tr>\n",
       "    <tr>\n",
       "      <th>top</th>\n",
       "      <td>20:00.0</td>\n",
       "      <td>2012-05-23 14:22:00 UTC</td>\n",
       "    </tr>\n",
       "    <tr>\n",
       "      <th>freq</th>\n",
       "      <td>113</td>\n",
       "      <td>2</td>\n",
       "    </tr>\n",
       "  </tbody>\n",
       "</table>\n",
       "</div>"
      ],
      "text/plain": [
       "       unique_id      date_time_of_pickup\n",
       "count      11000                    11000\n",
       "unique      2975                    10982\n",
       "top      20:00.0  2012-05-23 14:22:00 UTC\n",
       "freq         113                        2"
      ]
     },
     "execution_count": 76,
     "metadata": {},
     "output_type": "execute_result"
    }
   ],
   "source": [
    "data.describe(include='object')"
   ]
  },
  {
   "cell_type": "markdown",
   "metadata": {},
   "source": [
    "## Observation\n",
    "There are unique approx. 3000 people who booked taxi.\n",
    "The most no taxi being at 2 PM ."
   ]
  },
  {
   "cell_type": "markdown",
   "metadata": {},
   "source": [
    "## Data Visualization"
   ]
  },
  {
   "cell_type": "code",
   "execution_count": 77,
   "metadata": {},
   "outputs": [
    {
     "data": {
      "text/plain": [
       "<AxesSubplot:>"
      ]
     },
     "execution_count": 77,
     "metadata": {},
     "output_type": "execute_result"
    },
    {
     "data": {
      "image/png": "[encoded data removed]",
      "text/plain": [
       "<Figure size 720x720 with 2 Axes>"
      ]
     },
     "metadata": {
      "needs_background": "light"
     },
     "output_type": "display_data"
    }
   ],
   "source": [
    "import seaborn as sns\n",
    "import matplotlib.pyplot as plt\n",
    "plt.figure(figsize=(10,10))\n",
    "sns.heatmap(data.corr(),annot=True)"
   ]
  },
  {
   "cell_type": "markdown",
   "metadata": {},
   "source": [
    "## Observation\n",
    "It shows multicollinearity in data as longitude, latitude of pickup and drop are highly correlated with each other.\n",
    " "
   ]
  },
  {
   "cell_type": "markdown",
   "metadata": {},
   "source": [
    "## "
   ]
  },
  {
   "cell_type": "code",
   "execution_count": 78,
   "metadata": {},
   "outputs": [
    {
     "data": {
      "text/plain": [
       "Unnamed: 0               0\n",
       "unique_id                0\n",
       "amount                   0\n",
       "date_time_of_pickup      0\n",
       "longitude_of_pickup     17\n",
       "latitude_of_pickup      14\n",
       "longitude_of_dropoff    14\n",
       "latitude_of_dropoff     11\n",
       "no_of_passenger          0\n",
       "dtype: int64"
      ]
     },
     "execution_count": 78,
     "metadata": {},
     "output_type": "execute_result"
    }
   ],
   "source": [
    "#checking for missing values\n",
    "data.isna().sum()"
   ]
  },
  {
   "cell_type": "code",
   "execution_count": 79,
   "metadata": {},
   "outputs": [],
   "source": [
    "## dropping the null values\n",
    "data=data.dropna()"
   ]
  },
  {
   "cell_type": "markdown",
   "metadata": {},
   "source": [
    "## "
   ]
  },
  {
   "cell_type": "code",
   "execution_count": 80,
   "metadata": {},
   "outputs": [
    {
     "data": {
      "text/html": [
       "<div>\n",
       "<style scoped>\n",
       "    .dataframe tbody tr th:only-of-type {\n",
       "        vertical-align: middle;\n",
       "    }\n",
       "\n",
       "    .dataframe tbody tr th {\n",
       "        vertical-align: top;\n",
       "    }\n",
       "\n",
       "    .dataframe thead th {\n",
       "        text-align: right;\n",
       "    }\n",
       "</style>\n",
       "<table border=\"1\" class=\"dataframe\">\n",
       "  <thead>\n",
       "    <tr style=\"text-align: right;\">\n",
       "      <th></th>\n",
       "      <th>Unnamed: 0</th>\n",
       "      <th>unique_id</th>\n",
       "      <th>amount</th>\n",
       "      <th>date_time_of_pickup</th>\n",
       "      <th>longitude_of_pickup</th>\n",
       "      <th>latitude_of_pickup</th>\n",
       "      <th>longitude_of_dropoff</th>\n",
       "      <th>latitude_of_dropoff</th>\n",
       "      <th>no_of_passenger</th>\n",
       "    </tr>\n",
       "  </thead>\n",
       "  <tbody>\n",
       "    <tr>\n",
       "      <th>0</th>\n",
       "      <td>0</td>\n",
       "      <td>26:21.0</td>\n",
       "      <td>4.5</td>\n",
       "      <td>2009-06-15 17:26:21 UTC</td>\n",
       "      <td>-73.844311</td>\n",
       "      <td>40.721319</td>\n",
       "      <td>-73.841610</td>\n",
       "      <td>40.712278</td>\n",
       "      <td>1</td>\n",
       "    </tr>\n",
       "    <tr>\n",
       "      <th>1</th>\n",
       "      <td>1</td>\n",
       "      <td>52:16.0</td>\n",
       "      <td>16.9</td>\n",
       "      <td>2010-01-05 16:52:16 UTC</td>\n",
       "      <td>-74.016048</td>\n",
       "      <td>40.711303</td>\n",
       "      <td>-73.979268</td>\n",
       "      <td>40.782004</td>\n",
       "      <td>1</td>\n",
       "    </tr>\n",
       "    <tr>\n",
       "      <th>2</th>\n",
       "      <td>2</td>\n",
       "      <td>35:00.0</td>\n",
       "      <td>5.7</td>\n",
       "      <td>2011-08-18 00:35:00 UTC</td>\n",
       "      <td>-73.982738</td>\n",
       "      <td>40.761270</td>\n",
       "      <td>-73.991242</td>\n",
       "      <td>40.750562</td>\n",
       "      <td>2</td>\n",
       "    </tr>\n",
       "    <tr>\n",
       "      <th>3</th>\n",
       "      <td>3</td>\n",
       "      <td>30:42.0</td>\n",
       "      <td>7.7</td>\n",
       "      <td>2012-04-21 04:30:42 UTC</td>\n",
       "      <td>-73.987130</td>\n",
       "      <td>40.733143</td>\n",
       "      <td>-73.991567</td>\n",
       "      <td>40.758092</td>\n",
       "      <td>1</td>\n",
       "    </tr>\n",
       "    <tr>\n",
       "      <th>4</th>\n",
       "      <td>4</td>\n",
       "      <td>51:00.0</td>\n",
       "      <td>5.3</td>\n",
       "      <td>2010-03-09 07:51:00 UTC</td>\n",
       "      <td>-73.968095</td>\n",
       "      <td>40.768008</td>\n",
       "      <td>-73.956655</td>\n",
       "      <td>40.783762</td>\n",
       "      <td>1</td>\n",
       "    </tr>\n",
       "  </tbody>\n",
       "</table>\n",
       "</div>"
      ],
      "text/plain": [
       "   Unnamed: 0 unique_id  amount      date_time_of_pickup  longitude_of_pickup  \\\n",
       "0           0   26:21.0     4.5  2009-06-15 17:26:21 UTC           -73.844311   \n",
       "1           1   52:16.0    16.9  2010-01-05 16:52:16 UTC           -74.016048   \n",
       "2           2   35:00.0     5.7  2011-08-18 00:35:00 UTC           -73.982738   \n",
       "3           3   30:42.0     7.7  2012-04-21 04:30:42 UTC           -73.987130   \n",
       "4           4   51:00.0     5.3  2010-03-09 07:51:00 UTC           -73.968095   \n",
       "\n",
       "   latitude_of_pickup  longitude_of_dropoff  latitude_of_dropoff  \\\n",
       "0           40.721319            -73.841610            40.712278   \n",
       "1           40.711303            -73.979268            40.782004   \n",
       "2           40.761270            -73.991242            40.750562   \n",
       "3           40.733143            -73.991567            40.758092   \n",
       "4           40.768008            -73.956655            40.783762   \n",
       "\n",
       "   no_of_passenger  \n",
       "0                1  \n",
       "1                1  \n",
       "2                2  \n",
       "3                1  \n",
       "4                1  "
      ]
     },
     "execution_count": 80,
     "metadata": {},
     "output_type": "execute_result"
    }
   ],
   "source": [
    "data.head()"
   ]
  },
  {
   "cell_type": "markdown",
   "metadata": {},
   "source": [
    "## "
   ]
  },
  {
   "cell_type": "markdown",
   "metadata": {},
   "source": [
    "### Feature Engineering"
   ]
  },
  {
   "cell_type": "code",
   "execution_count": 81,
   "metadata": {},
   "outputs": [],
   "source": [
    "import datetime"
   ]
  },
  {
   "cell_type": "code",
   "execution_count": 82,
   "metadata": {},
   "outputs": [],
   "source": [
    "data['date_time_of_pickup'] = pd.to_datetime(data['date_time_of_pickup']) - datetime.timedelta(hours = 4)"
   ]
  },
  {
   "cell_type": "code",
   "execution_count": 83,
   "metadata": {},
   "outputs": [
    {
     "data": {
      "text/plain": [
       "0   2009-06-15 13:26:21+00:00\n",
       "1   2010-01-05 12:52:16+00:00\n",
       "2   2011-08-17 20:35:00+00:00\n",
       "3   2012-04-21 00:30:42+00:00\n",
       "4   2010-03-09 03:51:00+00:00\n",
       "Name: date_time_of_pickup, dtype: datetime64[ns, UTC]"
      ]
     },
     "execution_count": 83,
     "metadata": {},
     "output_type": "execute_result"
    }
   ],
   "source": [
    "data['date_time_of_pickup'].head()"
   ]
  },
  {
   "cell_type": "code",
   "execution_count": 84,
   "metadata": {},
   "outputs": [],
   "source": [
    "data['Year'] = data['date_time_of_pickup'].dt.year\n",
    "data['Month'] = data['date_time_of_pickup'].dt.month\n",
    "data['Day'] = data['date_time_of_pickup'].dt.day\n",
    "data['Hours'] = data['date_time_of_pickup'].dt.hour\n",
    "data['Minutes'] = data['date_time_of_pickup'].dt.minute"
   ]
  },
  {
   "cell_type": "code",
   "execution_count": 85,
   "metadata": {},
   "outputs": [],
   "source": [
    "data['mornight'] = np.where(data.Hours< 12, 0, 1)"
   ]
  },
  {
   "cell_type": "markdown",
   "metadata": {},
   "source": [
    "## "
   ]
  },
  {
   "cell_type": "markdown",
   "metadata": {},
   "source": [
    "## Add Distance Between Pickup and Drop\n",
    "We can use the haversine distance:"
   ]
  },
  {
   "cell_type": "code",
   "execution_count": 86,
   "metadata": {},
   "outputs": [],
   "source": [
    "from sklearn.metrics.pairwise import haversine_distances"
   ]
  },
  {
   "cell_type": "code",
   "execution_count": 87,
   "metadata": {},
   "outputs": [],
   "source": [
    "### Function\n",
    "\n",
    "from math import radians, cos, sin, asin, sqrt\n",
    "\n",
    "def haversine(data):\n",
    "    \"\"\"\n",
    "    Calculate the great circle distance between two points \n",
    "    on the earth (specified in decimal degrees)\n",
    "    \"\"\"\n",
    "    # convert decimal degrees to radians \n",
    "    lat1 = np.radians(data[\"latitude_of_pickup\"])\n",
    "    lat2 = np.radians(data[\"latitude_of_dropoff\"])\n",
    "    \n",
    "    \n",
    "    # Based on the formula x1= drop_lat, x2 = drop_long\n",
    "    dlat = np.radians(data['latitude_of_dropoff'] - data['latitude_of_pickup'])\n",
    "    dlong = np.radians(data['longitude_of_dropoff'] - data['longitude_of_pickup'])\n",
    "\n",
    "    # haversine formula \n",
    "    # we will get the distance in kilometers by this formula \n",
    "    a = np.sin(dlat/2)**2 + np.cos(lat1) * np.cos(lat2) * np.sin(dlong/2)**2\n",
    "    c = 2 * np.arctan2(np.sqrt(a), np.sqrt(1-a))\n",
    "    r = 6371 # Radius of earth in kilometers. Use 3956 for miles\n",
    "    return c * r"
   ]
  },
  {
   "cell_type": "code",
   "execution_count": 88,
   "metadata": {},
   "outputs": [],
   "source": [
    "#New variable Total Distance\n",
    "data['Total_distance'] = haversine(data)"
   ]
  },
  {
   "cell_type": "code",
   "execution_count": 89,
   "metadata": {},
   "outputs": [],
   "source": [
    "# Dropping the unwanted variables from the data\n",
    "data.drop(['unique_id','date_time_of_pickup','longitude_of_dropoff','latitude_of_pickup'],axis=1,inplace=True)"
   ]
  },
  {
   "cell_type": "code",
   "execution_count": 138,
   "metadata": {},
   "outputs": [
    {
     "data": {
      "text/html": [
       "<div>\n",
       "<style scoped>\n",
       "    .dataframe tbody tr th:only-of-type {\n",
       "        vertical-align: middle;\n",
       "    }\n",
       "\n",
       "    .dataframe tbody tr th {\n",
       "        vertical-align: top;\n",
       "    }\n",
       "\n",
       "    .dataframe thead th {\n",
       "        text-align: right;\n",
       "    }\n",
       "</style>\n",
       "<table border=\"1\" class=\"dataframe\">\n",
       "  <thead>\n",
       "    <tr style=\"text-align: right;\">\n",
       "      <th></th>\n",
       "      <th>Unnamed: 0</th>\n",
       "      <th>amount</th>\n",
       "      <th>longitude_of_pickup</th>\n",
       "      <th>latitude_of_dropoff</th>\n",
       "      <th>no_of_passenger</th>\n",
       "      <th>Year</th>\n",
       "      <th>Month</th>\n",
       "      <th>Day</th>\n",
       "      <th>Hours</th>\n",
       "      <th>Minutes</th>\n",
       "      <th>mornight</th>\n",
       "      <th>Total_distance</th>\n",
       "    </tr>\n",
       "  </thead>\n",
       "  <tbody>\n",
       "    <tr>\n",
       "      <th>0</th>\n",
       "      <td>0</td>\n",
       "      <td>4.5</td>\n",
       "      <td>-73.844311</td>\n",
       "      <td>40.712278</td>\n",
       "      <td>1</td>\n",
       "      <td>2009</td>\n",
       "      <td>6</td>\n",
       "      <td>15</td>\n",
       "      <td>13</td>\n",
       "      <td>26</td>\n",
       "      <td>1</td>\n",
       "      <td>1.030764</td>\n",
       "    </tr>\n",
       "    <tr>\n",
       "      <th>1</th>\n",
       "      <td>1</td>\n",
       "      <td>16.9</td>\n",
       "      <td>-74.016048</td>\n",
       "      <td>40.782004</td>\n",
       "      <td>1</td>\n",
       "      <td>2010</td>\n",
       "      <td>1</td>\n",
       "      <td>5</td>\n",
       "      <td>12</td>\n",
       "      <td>52</td>\n",
       "      <td>1</td>\n",
       "      <td>8.450134</td>\n",
       "    </tr>\n",
       "    <tr>\n",
       "      <th>2</th>\n",
       "      <td>2</td>\n",
       "      <td>5.7</td>\n",
       "      <td>-73.982738</td>\n",
       "      <td>40.750562</td>\n",
       "      <td>2</td>\n",
       "      <td>2011</td>\n",
       "      <td>8</td>\n",
       "      <td>17</td>\n",
       "      <td>20</td>\n",
       "      <td>35</td>\n",
       "      <td>1</td>\n",
       "      <td>1.389525</td>\n",
       "    </tr>\n",
       "    <tr>\n",
       "      <th>3</th>\n",
       "      <td>3</td>\n",
       "      <td>7.7</td>\n",
       "      <td>-73.987130</td>\n",
       "      <td>40.758092</td>\n",
       "      <td>1</td>\n",
       "      <td>2012</td>\n",
       "      <td>4</td>\n",
       "      <td>21</td>\n",
       "      <td>0</td>\n",
       "      <td>30</td>\n",
       "      <td>0</td>\n",
       "      <td>2.799270</td>\n",
       "    </tr>\n",
       "    <tr>\n",
       "      <th>4</th>\n",
       "      <td>4</td>\n",
       "      <td>5.3</td>\n",
       "      <td>-73.968095</td>\n",
       "      <td>40.783762</td>\n",
       "      <td>1</td>\n",
       "      <td>2010</td>\n",
       "      <td>3</td>\n",
       "      <td>9</td>\n",
       "      <td>3</td>\n",
       "      <td>51</td>\n",
       "      <td>0</td>\n",
       "      <td>1.999157</td>\n",
       "    </tr>\n",
       "  </tbody>\n",
       "</table>\n",
       "</div>"
      ],
      "text/plain": [
       "   Unnamed: 0  amount  longitude_of_pickup  latitude_of_dropoff  \\\n",
       "0           0     4.5           -73.844311            40.712278   \n",
       "1           1    16.9           -74.016048            40.782004   \n",
       "2           2     5.7           -73.982738            40.750562   \n",
       "3           3     7.7           -73.987130            40.758092   \n",
       "4           4     5.3           -73.968095            40.783762   \n",
       "\n",
       "   no_of_passenger  Year  Month  Day  Hours  Minutes  mornight  Total_distance  \n",
       "0                1  2009      6   15     13       26         1        1.030764  \n",
       "1                1  2010      1    5     12       52         1        8.450134  \n",
       "2                2  2011      8   17     20       35         1        1.389525  \n",
       "3                1  2012      4   21      0       30         0        2.799270  \n",
       "4                1  2010      3    9      3       51         0        1.999157  "
      ]
     },
     "execution_count": 138,
     "metadata": {},
     "output_type": "execute_result"
    }
   ],
   "source": [
    "#data after feature engineering\n",
    "data.head()"
   ]
  },
  {
   "cell_type": "code",
   "execution_count": 90,
   "metadata": {},
   "outputs": [
    {
     "name": "stderr",
     "output_type": "stream",
     "text": [
      "<ipython-input-90-d50c323cce8e>:2: FutureWarning: Indexing with multiple keys (implicitly converted to a tuple of keys) will be deprecated, use a list instead.\n",
      "  data.groupby('no_of_passenger')['Total_distance', 'amount'].mean()\n"
     ]
    },
    {
     "data": {
      "text/html": [
       "<div>\n",
       "<style scoped>\n",
       "    .dataframe tbody tr th:only-of-type {\n",
       "        vertical-align: middle;\n",
       "    }\n",
       "\n",
       "    .dataframe tbody tr th {\n",
       "        vertical-align: top;\n",
       "    }\n",
       "\n",
       "    .dataframe thead th {\n",
       "        text-align: right;\n",
       "    }\n",
       "</style>\n",
       "<table border=\"1\" class=\"dataframe\">\n",
       "  <thead>\n",
       "    <tr style=\"text-align: right;\">\n",
       "      <th></th>\n",
       "      <th>Total_distance</th>\n",
       "      <th>amount</th>\n",
       "    </tr>\n",
       "    <tr>\n",
       "      <th>no_of_passenger</th>\n",
       "      <th></th>\n",
       "      <th></th>\n",
       "    </tr>\n",
       "  </thead>\n",
       "  <tbody>\n",
       "    <tr>\n",
       "      <th>0</th>\n",
       "      <td>3.016702</td>\n",
       "      <td>9.365854</td>\n",
       "    </tr>\n",
       "    <tr>\n",
       "      <th>1</th>\n",
       "      <td>14.782733</td>\n",
       "      <td>11.039878</td>\n",
       "    </tr>\n",
       "    <tr>\n",
       "      <th>2</th>\n",
       "      <td>14.786198</td>\n",
       "      <td>12.172888</td>\n",
       "    </tr>\n",
       "    <tr>\n",
       "      <th>3</th>\n",
       "      <td>12.715714</td>\n",
       "      <td>11.421104</td>\n",
       "    </tr>\n",
       "    <tr>\n",
       "      <th>4</th>\n",
       "      <td>3.471259</td>\n",
       "      <td>11.482269</td>\n",
       "    </tr>\n",
       "    <tr>\n",
       "      <th>5</th>\n",
       "      <td>15.248604</td>\n",
       "      <td>11.227929</td>\n",
       "    </tr>\n",
       "    <tr>\n",
       "      <th>6</th>\n",
       "      <td>3.133642</td>\n",
       "      <td>11.856059</td>\n",
       "    </tr>\n",
       "  </tbody>\n",
       "</table>\n",
       "</div>"
      ],
      "text/plain": [
       "                 Total_distance     amount\n",
       "no_of_passenger                           \n",
       "0                      3.016702   9.365854\n",
       "1                     14.782733  11.039878\n",
       "2                     14.786198  12.172888\n",
       "3                     12.715714  11.421104\n",
       "4                      3.471259  11.482269\n",
       "5                     15.248604  11.227929\n",
       "6                      3.133642  11.856059"
      ]
     },
     "execution_count": 90,
     "metadata": {},
     "output_type": "execute_result"
    }
   ],
   "source": [
    "# using groupby \n",
    "data.groupby('no_of_passenger')['Total_distance', 'amount'].mean()"
   ]
  },
  {
   "cell_type": "code",
   "execution_count": 91,
   "metadata": {},
   "outputs": [
    {
     "data": {
      "text/plain": [
       "8667.54210373151"
      ]
     },
     "execution_count": 91,
     "metadata": {},
     "output_type": "execute_result"
    }
   ],
   "source": [
    "# max distance travelled \n",
    "data['Total_distance'].max()"
   ]
  },
  {
   "cell_type": "code",
   "execution_count": 92,
   "metadata": {},
   "outputs": [
    {
     "data": {
      "text/plain": [
       "180.0"
      ]
     },
     "execution_count": 92,
     "metadata": {},
     "output_type": "execute_result"
    }
   ],
   "source": [
    "# max amount paid \n",
    "data['amount'].max()"
   ]
  },
  {
   "cell_type": "code",
   "execution_count": 93,
   "metadata": {},
   "outputs": [],
   "source": [
    "import seaborn as sns\n",
    "import matplotlib.pyplot as plt"
   ]
  },
  {
   "cell_type": "code",
   "execution_count": 94,
   "metadata": {},
   "outputs": [
    {
     "data": {
      "text/plain": [
       "<AxesSubplot:>"
      ]
     },
     "execution_count": 94,
     "metadata": {},
     "output_type": "execute_result"
    },
    {
     "data": {
      "image/png": "[encoded data removed]",
      "text/plain": [
       "<Figure size 1440x1440 with 2 Axes>"
      ]
     },
     "metadata": {
      "needs_background": "light"
     },
     "output_type": "display_data"
    }
   ],
   "source": [
    "plt.figure(figsize=(20,20))\n",
    "sns.heatmap(data.corr(),annot=True)"
   ]
  },
  {
   "cell_type": "markdown",
   "metadata": {},
   "source": [
    "## Observation\n",
    "1. There is high correlation between hours and mornight variables.(0.86)\n",
    "2. While all the others variables in the data are highly correlated."
   ]
  },
  {
   "cell_type": "markdown",
   "metadata": {},
   "source": [
    "### Getting and Removing Outliers in Data"
   ]
  },
  {
   "cell_type": "code",
   "execution_count": 95,
   "metadata": {},
   "outputs": [
    {
     "data": {
      "image/png": "[encoded data removed]",
      "text/plain": [
       "<Figure size 1080x360 with 1 Axes>"
      ]
     },
     "metadata": {
      "needs_background": "light"
     },
     "output_type": "display_data"
    },
    {
     "data": {
      "image/png": "[encoded data removed]",
      "text/plain": [
       "<Figure size 1080x360 with 1 Axes>"
      ]
     },
     "metadata": {
      "needs_background": "light"
     },
     "output_type": "display_data"
    },
    {
     "data": {
      "image/png": "[encoded data removed]",
      "text/plain": [
       "<Figure size 1080x360 with 1 Axes>"
      ]
     },
     "metadata": {
      "needs_background": "light"
     },
     "output_type": "display_data"
    },
    {
     "data": {
      "image/png": "[encoded data removed]",
      "text/plain": [
       "<Figure size 1080x360 with 1 Axes>"
      ]
     },
     "metadata": {
      "needs_background": "light"
     },
     "output_type": "display_data"
    },
    {
     "data": {
      "image/png": "[encoded data removed]",
      "text/plain": [
       "<Figure size 1080x360 with 1 Axes>"
      ]
     },
     "metadata": {
      "needs_background": "light"
     },
     "output_type": "display_data"
    },
    {
     "data": {
      "image/png": "[encoded data removed]",
      "text/plain": [
       "<Figure size 1080x360 with 1 Axes>"
      ]
     },
     "metadata": {
      "needs_background": "light"
     },
     "output_type": "display_data"
    },
    {
     "data": {
      "image/png": "[encoded data removed]",
      "text/plain": [
       "<Figure size 1080x360 with 1 Axes>"
      ]
     },
     "metadata": {
      "needs_background": "light"
     },
     "output_type": "display_data"
    },
    {
     "data": {
      "image/png": "[encoded data removed]",
      "text/plain": [
       "<Figure size 1080x360 with 1 Axes>"
      ]
     },
     "metadata": {
      "needs_background": "light"
     },
     "output_type": "display_data"
    },
    {
     "data": {
      "image/png": "[encoded data removed]",
      "text/plain": [
       "<Figure size 1080x360 with 1 Axes>"
      ]
     },
     "metadata": {
      "needs_background": "light"
     },
     "output_type": "display_data"
    },
    {
     "data": {
      "image/png": "[encoded data removed]",
      "text/plain": [
       "<Figure size 1080x360 with 1 Axes>"
      ]
     },
     "metadata": {
      "needs_background": "light"
     },
     "output_type": "display_data"
    },
    {
     "data": {
      "image/png": "[encoded data removed]",
      "text/plain": [
       "<Figure size 1080x360 with 1 Axes>"
      ]
     },
     "metadata": {
      "needs_background": "light"
     },
     "output_type": "display_data"
    },
    {
     "data": {
      "image/png": "[encoded data removed]",
      "text/plain": [
       "<Figure size 1080x360 with 1 Axes>"
      ]
     },
     "metadata": {
      "needs_background": "light"
     },
     "output_type": "display_data"
    }
   ],
   "source": [
    "for i in data.columns:\n",
    "    plt.figure(figsize=(15,5))\n",
    "    sns.boxplot(y=i,data=data)\n",
    "    plt.title(i)"
   ]
  },
  {
   "cell_type": "code",
   "execution_count": 96,
   "metadata": {},
   "outputs": [
    {
     "name": "stdout",
     "output_type": "stream",
     "text": [
      "[[1.73653078 0.7030935  0.12334039 ... 0.21946995 0.92123758 0.04412623]\n",
      " [1.73621547 0.58923385 0.14015507 ... 1.28448723 0.92123758 0.01934853]\n",
      " [1.73590017 0.57802957 0.1368937  ... 0.30113061 0.92123758 0.04292812]\n",
      " ...\n",
      " [1.73091584 0.7030935  0.13723168 ... 0.35897512 0.92123758 0.04418788]\n",
      " [1.73123114 0.1194618  0.13566827 ... 0.04593643 0.92123758 0.03560938]\n",
      " [1.73154645 0.16114977 0.13853055 ... 1.4920491  1.08549632 0.04189134]]\n"
     ]
    }
   ],
   "source": [
    "# Check for the outliers\n",
    "from scipy import stats\n",
    "z = abs(stats.zscore(data))\n",
    "print(z)"
   ]
  },
  {
   "cell_type": "code",
   "execution_count": 97,
   "metadata": {},
   "outputs": [
    {
     "name": "stdout",
     "output_type": "stream",
     "text": [
      "(array([   32,    35,    57,    60,    64,    65,   102,   105,   108,\n",
      "         128,   143,   184,   193,   199,   214,   227,   279,   302,\n",
      "         308,   343,   357,   365,   382,   417,   427,   433,   439,\n",
      "         498,   525,   526,   527,   528,   528,   530,   530,   540,\n",
      "         556,   569,   604,   609,   636,   646,   671,   676,   703,\n",
      "         722,   783,   793,   801,   830,   837,   856,   856,   865,\n",
      "         865,   871,   871,   911,   912,   942,   942,   944,   944,\n",
      "         949,   949,   968,   994,  1058,  1060,  1093,  1104,  1153,\n",
      "        1156,  1159,  1164,  1164,  1200,  1203,  1215,  1243,  1243,\n",
      "        1265,  1271,  1286,  1297,  1297,  1299,  1299,  1318,  1331,\n",
      "        1345,  1371,  1380,  1380,  1387,  1390,  1414,  1424,  1424,\n",
      "        1466,  1469,  1470,  1477,  1487,  1525,  1525,  1544,  1544,\n",
      "        1577,  1578,  1578,  1602,  1620,  1620,  1633,  1664,  1664,\n",
      "        1666,  1687,  1687,  1691,  1692,  1696,  1745,  1747,  1762,\n",
      "        1762,  1766,  1766,  1769,  1779,  1801,  1806,  1806,  1811,\n",
      "        1811,  1829,  1829,  1832,  1851,  1862,  1932,  1937,  1957,\n",
      "        1962,  1992,  1994,  1994,  1996,  2043,  2061,  2108,  2126,\n",
      "        2126,  2130,  2130,  2155,  2209,  2211,  2211,  2226,  2247,\n",
      "        2247,  2255,  2263,  2266,  2306,  2329,  2346,  2375,  2380,\n",
      "        2380,  2380,  2394,  2415,  2416,  2430,  2430,  2431,  2431,\n",
      "        2438,  2438,  2462,  2463,  2502,  2502,  2504,  2504,  2508,\n",
      "        2525,  2525,  2590,  2622,  2628,  2629,  2677,  2679,  2681,\n",
      "        2685,  2702,  2705,  2705,  2727,  2729,  2730,  2730,  2753,\n",
      "        2771,  2782,  2782,  2836,  2864,  2864,  2868,  2868,  2897,\n",
      "        2943,  2943,  2947,  2947,  2953,  2982,  2983,  2991,  2991,\n",
      "        3018,  3068,  3111,  3111,  3150,  3150,  3151,  3151,  3166,\n",
      "        3170,  3177,  3177,  3199,  3283,  3291,  3291,  3308,  3340,\n",
      "        3340,  3343,  3343,  3344,  3344,  3351,  3357,  3357,  3362,\n",
      "        3416,  3416,  3418,  3448,  3448,  3454,  3458,  3473,  3490,\n",
      "        3490,  3520,  3520,  3528,  3532,  3540,  3554,  3568,  3602,\n",
      "        3628,  3677,  3694,  3694,  3741,  3743,  3743,  3746,  3748,\n",
      "        3748,  3769,  3789,  3789,  3810,  3810,  3813,  3813,  3849,\n",
      "        3849,  3851,  3862,  3867,  3872,  3872,  3873,  3874,  3874,\n",
      "        3879,  3891,  3891,  3897,  3897,  3910,  3926,  3994,  3996,\n",
      "        3998,  4001,  4030,  4030,  4031,  4069,  4076,  4101,  4111,\n",
      "        4144,  4192,  4197,  4197,  4206,  4214,  4224,  4243,  4251,\n",
      "        4260,  4261,  4261,  4268,  4274,  4282,  4288,  4312,  4318,\n",
      "        4336,  4364,  4388,  4390,  4413,  4413,  4438,  4438,  4444,\n",
      "        4444,  4454,  4456,  4456,  4460,  4462,  4478,  4479,  4489,\n",
      "        4496,  4496,  4497,  4541,  4557,  4557,  4557,  4565,  4568,\n",
      "        4575,  4578,  4580,  4580,  4583,  4583,  4589,  4589,  4602,\n",
      "        4603,  4631,  4642,  4642,  4665,  4674,  4675,  4723,  4723,\n",
      "        4732,  4735,  4741,  4760,  4760,  4764,  4766,  4766,  4782,\n",
      "        4782,  4841,  4841,  4844,  4846,  4850,  4856,  4871,  4871,\n",
      "        4876,  4876,  4883,  4957,  4998,  5002,  5006,  5027,  5061,\n",
      "        5095,  5106,  5106,  5119,  5119,  5155,  5195,  5195,  5195,\n",
      "        5201,  5211,  5211,  5221,  5221,  5278,  5280,  5324,  5325,\n",
      "        5400,  5447,  5447,  5448,  5448,  5508,  5521,  5524,  5524,\n",
      "        5539,  5544,  5544,  5549,  5569,  5569,  5572,  5572,  5576,\n",
      "        5618,  5618,  5644,  5646,  5647,  5647,  5658,  5659,  5659,\n",
      "        5695,  5749,  5754,  5754,  5754,  5762,  5762,  5777,  5779,\n",
      "        5779,  5790,  5794,  5837,  5847,  5860,  5860,  5892,  5905,\n",
      "        5909,  5914,  5943,  5943,  5953,  5959,  5969,  5969,  5979,\n",
      "        5980,  5990,  5990,  6007,  6007,  6041,  6041,  6044,  6074,\n",
      "        6077,  6114,  6119,  6133,  6133,  6137,  6140,  6160,  6160,\n",
      "        6171,  6171,  6182,  6183,  6190,  6194,  6222,  6236,  6280,\n",
      "        6280,  6285,  6285,  6291,  6304,  6309,  6309,  6309,  6318,\n",
      "        6350,  6370,  6383,  6414,  6472,  6487,  6504,  6585,  6610,\n",
      "        6613,  6613,  6613,  6629,  6629,  6632,  6641,  6651,  6660,\n",
      "        6688,  6688,  6692,  6726,  6727,  6727,  6742,  6742,  6744,\n",
      "        6744,  6770,  6780,  6800,  6804,  6850,  6850,  6851,  6857,\n",
      "        6879,  6893,  6893,  6893,  6902,  6905,  6913,  6935,  6954,\n",
      "        6955,  6967,  6978,  6987,  6987,  6992,  6992,  6997,  6997,\n",
      "        7004,  7006,  7006,  7006,  7009,  7042,  7061,  7061,  7082,\n",
      "        7085,  7095,  7135,  7154,  7177,  7192,  7210,  7237,  7247,\n",
      "        7253,  7253,  7263,  7263,  7276,  7276,  7298,  7299,  7299,\n",
      "        7306,  7331,  7343,  7343,  7351,  7354,  7354,  7363,  7366,\n",
      "        7393,  7393,  7402,  7402,  7424,  7438,  7441,  7441,  7451,\n",
      "        7454,  7482,  7508,  7508,  7514,  7522,  7522,  7543,  7581,\n",
      "        7650,  7650,  7667,  7667,  7678,  7678,  7686,  7690,  7699,\n",
      "        7717,  7725,  7727,  7727,  7740,  7746,  7756,  7760,  7777,\n",
      "        7793,  7834,  7879,  7883,  7903,  7950,  7956,  7962,  7965,\n",
      "        7965,  7971,  8009,  8021,  8032,  8046,  8046,  8071,  8076,\n",
      "        8088,  8092,  8092,  8100,  8118,  8118,  8146,  8154,  8156,\n",
      "        8186,  8194,  8210,  8228,  8228,  8242,  8242,  8254,  8263,\n",
      "        8263,  8271,  8296,  8314,  8314,  8328,  8330,  8336,  8346,\n",
      "        8359,  8373,  8374,  8389,  8389,  8425,  8425,  8426,  8426,\n",
      "        8429,  8429,  8442,  8466,  8466,  8467,  8485,  8518,  8524,\n",
      "        8526,  8526,  8535,  8566,  8572,  8572,  8588,  8588,  8592,\n",
      "        8592,  8612,  8612,  8628,  8628,  8630,  8630,  8637,  8701,\n",
      "        8706,  8706,  8717,  8721,  8721,  8745,  8745,  8756,  8776,\n",
      "        8786,  8786,  8786,  8827,  8827,  8864,  8916,  8917,  8927,\n",
      "        8965,  8965,  8985,  8990,  8992,  8992,  8995,  9012,  9101,\n",
      "        9110,  9124,  9130,  9130,  9207,  9229,  9229,  9229,  9239,\n",
      "        9249,  9249,  9253,  9253,  9253,  9265,  9272,  9289,  9305,\n",
      "        9325,  9325,  9360,  9396,  9414,  9524,  9531,  9531,  9583,\n",
      "        9583,  9604,  9604,  9634,  9644,  9644,  9651,  9652,  9657,\n",
      "        9669,  9684,  9711,  9711,  9712,  9722,  9725,  9725,  9738,\n",
      "        9743,  9752,  9765,  9765,  9768,  9768,  9836,  9836,  9836,\n",
      "        9837,  9838,  9846,  9846,  9871,  9871,  9871,  9889,  9889,\n",
      "        9905,  9944,  9983,  9995, 10002, 10033, 10042, 10052, 10060,\n",
      "       10068, 10068, 10074, 10074, 10074, 10074, 10095, 10100, 10145,\n",
      "       10145, 10167, 10194, 10198, 10198, 10214, 10244, 10244, 10245,\n",
      "       10245, 10261, 10261, 10275, 10285, 10289, 10324, 10344, 10348,\n",
      "       10352, 10369, 10370, 10370, 10381, 10387, 10394, 10394, 10411,\n",
      "       10427, 10427, 10432, 10432, 10432, 10441, 10441, 10457, 10460,\n",
      "       10460, 10471, 10471, 10472, 10474, 10474, 10481, 10481, 10482,\n",
      "       10507, 10531, 10531, 10538, 10569, 10574, 10587, 10587, 10594,\n",
      "       10614, 10630, 10638, 10640, 10655, 10655, 10675, 10727, 10766,\n",
      "       10766, 10793, 10815, 10817, 10822, 10823, 10886, 10919, 10930,\n",
      "       10930, 10940, 10947, 10947, 10966, 10970], dtype=int64), array([ 1,  4,  4,  4,  4,  4,  1,  4,  4,  1,  1,  4,  4,  1,  4,  1,  1,\n",
      "        1,  1,  4,  4,  4,  4,  4,  1,  1,  1,  1,  1,  1,  1,  2,  3,  2,\n",
      "        3,  1,  4,  1,  4,  1,  1,  4,  4,  1,  1,  1,  1,  1,  4,  1,  4,\n",
      "        2,  3,  2,  3,  2,  3,  1,  1,  2,  3,  2,  3,  2,  3,  4,  1,  1,\n",
      "        4,  4,  1,  4,  4,  1,  2,  3,  4,  1,  1,  3, 11,  1,  1,  4,  2,\n",
      "        3,  2,  3,  1,  1,  4,  1,  2,  3,  1,  4,  1,  2,  3,  1,  1,  1,\n",
      "        1,  4,  2,  3,  2,  3,  4,  2,  3,  1,  2,  3,  4,  2,  3,  4,  2,\n",
      "        3,  4,  1,  4,  1,  1,  2,  3,  2,  3,  4,  1,  4,  2,  3,  2,  3,\n",
      "        2,  3,  1,  1,  1,  1,  4,  1,  1,  1,  2,  3,  1,  4,  4,  1,  2,\n",
      "        3,  2,  3,  1,  4,  2,  3,  1,  1,  4,  4, 11,  1,  1,  1,  1,  1,\n",
      "        1,  2, 11,  4,  1,  4,  2,  3,  2,  3,  2,  3,  4,  4,  2,  3,  2,\n",
      "        3,  1,  2,  3,  1,  1,  4,  4,  1,  4,  4,  4,  4,  2,  3,  4,  1,\n",
      "        2,  3,  4,  4,  2,  3,  1,  2,  3,  2,  3,  4,  2,  3,  2,  3,  4,\n",
      "        1,  1,  2,  3,  1,  4,  2,  3,  2,  3,  2,  3,  1,  1,  2,  3,  1,\n",
      "        1,  2,  3,  1,  2,  3,  2,  3,  2,  3,  1,  2,  3,  1,  2,  3,  4,\n",
      "        2,  3,  1,  1,  4,  2,  3,  2,  3,  1,  4,  4,  1,  4,  1,  1,  4,\n",
      "        2,  3,  4,  2,  3,  1,  2,  3,  4,  2,  3,  2,  3,  2,  3,  2,  3,\n",
      "        4,  4,  1,  2,  3,  4,  2,  3,  1,  2,  3,  2,  3,  1,  4,  1,  1,\n",
      "        4,  4,  2,  3,  4,  1,  1,  1,  1,  4,  4,  2,  3,  1,  4,  4,  1,\n",
      "        1,  1,  3, 11,  4,  1,  1,  4,  1,  1,  1,  4,  1,  4,  2,  3,  2,\n",
      "        3,  2,  3,  1,  2,  3,  1,  4,  1,  4,  1,  2,  3,  1,  4,  1,  2,\n",
      "        3,  1,  4,  4,  4,  2, 11,  2,  3,  2,  3,  1,  1,  1,  2,  3,  4,\n",
      "        4,  1,  2,  3,  4,  1,  1,  2,  3,  1,  2,  3,  2,  3,  2,  3,  1,\n",
      "        4,  4,  4,  2,  3,  2,  3,  1,  1,  1,  4,  1,  1,  1,  4,  2,  3,\n",
      "        2,  3,  1,  1,  2,  3,  4,  2,  3,  2,  3,  1,  1,  1,  4,  1,  2,\n",
      "        3,  2,  3,  4,  1,  2,  3,  4,  2,  3,  1,  2,  3,  2,  3,  1,  2,\n",
      "        3,  1,  1,  2,  3,  4,  2,  3,  1,  4,  2,  3,  4,  2,  3,  4,  2,\n",
      "        3,  1,  4,  4, 11,  2,  3,  1,  1,  1,  1,  2,  3,  1,  4,  2,  3,\n",
      "        4,  4,  2,  3,  2,  3,  2,  3,  4,  1,  4,  4,  1,  2,  3,  4,  4,\n",
      "        2,  3,  2, 11,  1,  4,  1,  1,  1,  1,  2,  3,  2, 11,  1,  1,  1,\n",
      "        2,  3,  4,  4,  4,  4,  1,  1,  1,  1,  1,  4,  1,  2,  3,  2,  3,\n",
      "        1,  1,  1,  1,  2,  3,  4,  4,  2,  3,  2,  3,  2,  3,  1,  4,  4,\n",
      "        1,  2,  3,  4,  1,  4,  1,  2,  3,  1,  4,  4,  1,  1,  1,  1,  4,\n",
      "        2,  3,  2,  3,  3, 11,  1,  2,  3,  4,  1,  1,  2,  3,  1,  1,  4,\n",
      "        1,  1,  4,  4,  4,  4,  1,  1,  4,  2,  3,  2,  3,  1,  2,  3,  4,\n",
      "        4,  2,  3,  1,  2,  3,  1,  1,  2,  3,  2,  3,  4,  4,  2,  3,  1,\n",
      "        1,  1,  2,  3,  1,  2,  3,  1,  1,  2,  3,  2,  3,  2,  3,  1,  1,\n",
      "        1,  1,  1,  2,  3,  1,  4,  4,  1,  1,  1,  1,  4,  1,  4,  4,  4,\n",
      "        4,  2,  3,  1,  1,  4,  1,  2,  3,  1,  1,  1,  2,  3,  1,  2,  3,\n",
      "        1,  4,  1,  4,  4,  4,  2,  3,  1,  4,  1,  2,  3,  4,  1,  2,  3,\n",
      "        1,  1,  1,  1,  4,  1,  1,  2,  3,  2,  3,  2,  3,  2,  3,  4,  2,\n",
      "        3,  4,  1,  1,  4,  2,  3,  1,  1,  2,  3,  2,  3,  2,  3,  2,  3,\n",
      "        2,  3,  3, 11,  1,  1,  2,  3,  1,  2,  3,  2,  3,  1,  1,  2,  3,\n",
      "        4,  2,  3,  4,  4,  1,  4,  2,  3,  1,  4,  2,  3,  1,  1,  4,  1,\n",
      "        1,  2, 11,  4,  1,  2,  3,  4,  2,  3,  1,  2,  3,  4,  4,  1,  1,\n",
      "        2,  3,  1,  4,  1,  1,  2,  3,  2,  3,  2,  3,  1,  2,  3,  4,  1,\n",
      "        1,  4,  4,  2,  3,  1,  1,  2,  3,  4,  4,  1,  2,  3,  2,  3,  2,\n",
      "        3,  4,  1,  4,  2,  3,  2,  3,  4,  2,  3,  1,  4,  1,  1,  1,  4,\n",
      "        4,  1,  1,  2,  3,  1,  2,  3,  4,  4,  4,  2,  3,  1,  1,  2, 11,\n",
      "        1,  2,  3,  2,  3,  2,  3,  1,  4,  1,  4,  4,  4,  4,  1,  2,  3,\n",
      "        1,  4,  2,  3,  1,  2,  3,  1,  2,  3,  3, 11,  4,  2,  3,  3, 11,\n",
      "        1,  2,  3,  2,  3,  1,  1,  2,  3,  1,  1,  4,  2,  3,  1,  4,  1,\n",
      "        4,  4,  3, 11,  4,  4,  2,  3,  4,  4,  4,  1,  4,  4,  1,  2,  3,\n",
      "        1,  2,  3,  1,  4], dtype=int64))\n"
     ]
    }
   ],
   "source": [
    "threshold = 3\n",
    "print(np.where(z>3))"
   ]
  },
  {
   "cell_type": "code",
   "execution_count": 98,
   "metadata": {},
   "outputs": [
    {
     "data": {
      "text/plain": [
       "(10305, 12)"
      ]
     },
     "execution_count": 98,
     "metadata": {},
     "output_type": "execute_result"
    }
   ],
   "source": [
    "# Remove the outliers\n",
    "new_data = data[(z<3).all(axis=1)]\n",
    "new_data.shape"
   ]
  },
  {
   "cell_type": "markdown",
   "metadata": {},
   "source": [
    "## Building the Model(s)"
   ]
  },
  {
   "cell_type": "code",
   "execution_count": 99,
   "metadata": {},
   "outputs": [],
   "source": [
    "from sklearn.model_selection import train_test_split"
   ]
  },
  {
   "cell_type": "code",
   "execution_count": 100,
   "metadata": {},
   "outputs": [],
   "source": [
    "x=new_data.drop(['amount'],axis=1)\n",
    "y=new_data['amount'].astype('int64')"
   ]
  },
  {
   "cell_type": "code",
   "execution_count": 101,
   "metadata": {},
   "outputs": [],
   "source": [
    "#Splitting the Training and Testing data having 30% of Test data\n",
    "x_train,x_test,y_train,y_test=train_test_split(x,y,test_size=0.3,random_state=123)"
   ]
  },
  {
   "cell_type": "code",
   "execution_count": 102,
   "metadata": {},
   "outputs": [
    {
     "data": {
      "text/plain": [
       "(7213, 11)"
      ]
     },
     "execution_count": 102,
     "metadata": {},
     "output_type": "execute_result"
    }
   ],
   "source": [
    "x_train.shape"
   ]
  },
  {
   "cell_type": "markdown",
   "metadata": {},
   "source": [
    "###  Performing StandardScaler"
   ]
  },
  {
   "cell_type": "code",
   "execution_count": 103,
   "metadata": {},
   "outputs": [],
   "source": [
    "#Scaling the data\n",
    "from sklearn.preprocessing import StandardScaler"
   ]
  },
  {
   "cell_type": "code",
   "execution_count": 104,
   "metadata": {},
   "outputs": [],
   "source": [
    "sc=StandardScaler()"
   ]
  },
  {
   "cell_type": "code",
   "execution_count": 105,
   "metadata": {},
   "outputs": [],
   "source": [
    "x_train=sc.fit_transform(x_train)\n",
    "x_test=sc.fit_transform(x_test)"
   ]
  },
  {
   "cell_type": "markdown",
   "metadata": {},
   "source": [
    "## Linear Regression"
   ]
  },
  {
   "cell_type": "code",
   "execution_count": 106,
   "metadata": {},
   "outputs": [
    {
     "data": {
      "text/html": [
       "<table class=\"simpletable\">\n",
       "<caption>OLS Regression Results</caption>\n",
       "<tr>\n",
       "  <th>Dep. Variable:</th>         <td>amount</td>      <th>  R-squared:         </th> <td>   0.361</td> \n",
       "</tr>\n",
       "<tr>\n",
       "  <th>Model:</th>                   <td>OLS</td>       <th>  Adj. R-squared:    </th> <td>   0.360</td> \n",
       "</tr>\n",
       "<tr>\n",
       "  <th>Method:</th>             <td>Least Squares</td>  <th>  F-statistic:       </th> <td>   369.4</td> \n",
       "</tr>\n",
       "<tr>\n",
       "  <th>Date:</th>             <td>Wed, 05 Jan 2022</td> <th>  Prob (F-statistic):</th>  <td>  0.00</td>  \n",
       "</tr>\n",
       "<tr>\n",
       "  <th>Time:</th>                 <td>10:44:49</td>     <th>  Log-Likelihood:    </th> <td> -22092.</td> \n",
       "</tr>\n",
       "<tr>\n",
       "  <th>No. Observations:</th>      <td>  7213</td>      <th>  AIC:               </th> <td>4.421e+04</td>\n",
       "</tr>\n",
       "<tr>\n",
       "  <th>Df Residuals:</th>          <td>  7201</td>      <th>  BIC:               </th> <td>4.429e+04</td>\n",
       "</tr>\n",
       "<tr>\n",
       "  <th>Df Model:</th>              <td>    11</td>      <th>                     </th>     <td> </td>    \n",
       "</tr>\n",
       "<tr>\n",
       "  <th>Covariance Type:</th>      <td>nonrobust</td>    <th>                     </th>     <td> </td>    \n",
       "</tr>\n",
       "</table>\n",
       "<table class=\"simpletable\">\n",
       "<tr>\n",
       "    <td></td>       <th>coef</th>     <th>std err</th>      <th>t</th>      <th>P>|t|</th>  <th>[0.025</th>    <th>0.975]</th>  \n",
       "</tr>\n",
       "<tr>\n",
       "  <th>const</th> <td>    9.7126</td> <td>    0.061</td> <td>  159.265</td> <td> 0.000</td> <td>    9.593</td> <td>    9.832</td>\n",
       "</tr>\n",
       "<tr>\n",
       "  <th>x1</th>    <td>   -0.0999</td> <td>    0.061</td> <td>   -1.636</td> <td> 0.102</td> <td>   -0.220</td> <td>    0.020</td>\n",
       "</tr>\n",
       "<tr>\n",
       "  <th>x2</th>    <td>   -0.0368</td> <td>    0.067</td> <td>   -0.549</td> <td> 0.583</td> <td>   -0.168</td> <td>    0.095</td>\n",
       "</tr>\n",
       "<tr>\n",
       "  <th>x3</th>    <td>   -0.5298</td> <td>    0.062</td> <td>   -8.549</td> <td> 0.000</td> <td>   -0.651</td> <td>   -0.408</td>\n",
       "</tr>\n",
       "<tr>\n",
       "  <th>x4</th>    <td>    0.1045</td> <td>    0.061</td> <td>    1.706</td> <td> 0.088</td> <td>   -0.016</td> <td>    0.225</td>\n",
       "</tr>\n",
       "<tr>\n",
       "  <th>x5</th>    <td>    0.9864</td> <td>    0.062</td> <td>   16.025</td> <td> 0.000</td> <td>    0.866</td> <td>    1.107</td>\n",
       "</tr>\n",
       "<tr>\n",
       "  <th>x6</th>    <td>    0.4410</td> <td>    0.061</td> <td>    7.181</td> <td> 0.000</td> <td>    0.321</td> <td>    0.561</td>\n",
       "</tr>\n",
       "<tr>\n",
       "  <th>x7</th>    <td>    0.0136</td> <td>    0.061</td> <td>    0.223</td> <td> 0.824</td> <td>   -0.106</td> <td>    0.133</td>\n",
       "</tr>\n",
       "<tr>\n",
       "  <th>x8</th>    <td>    0.1524</td> <td>    0.121</td> <td>    1.261</td> <td> 0.207</td> <td>   -0.084</td> <td>    0.389</td>\n",
       "</tr>\n",
       "<tr>\n",
       "  <th>x9</th>    <td>   -0.0542</td> <td>    0.061</td> <td>   -0.889</td> <td> 0.374</td> <td>   -0.174</td> <td>    0.065</td>\n",
       "</tr>\n",
       "<tr>\n",
       "  <th>x10</th>   <td>   -0.2200</td> <td>    0.121</td> <td>   -1.826</td> <td> 0.068</td> <td>   -0.456</td> <td>    0.016</td>\n",
       "</tr>\n",
       "<tr>\n",
       "  <th>x11</th>   <td>    3.8052</td> <td>    0.067</td> <td>   57.019</td> <td> 0.000</td> <td>    3.674</td> <td>    3.936</td>\n",
       "</tr>\n",
       "</table>\n",
       "<table class=\"simpletable\">\n",
       "<tr>\n",
       "  <th>Omnibus:</th>       <td>7481.307</td> <th>  Durbin-Watson:     </th>  <td>   2.003</td>  \n",
       "</tr>\n",
       "<tr>\n",
       "  <th>Prob(Omnibus):</th>  <td> 0.000</td>  <th>  Jarque-Bera (JB):  </th> <td>3741535.182</td>\n",
       "</tr>\n",
       "<tr>\n",
       "  <th>Skew:</th>           <td>-4.404</td>  <th>  Prob(JB):          </th>  <td>    0.00</td>  \n",
       "</tr>\n",
       "<tr>\n",
       "  <th>Kurtosis:</th>       <td>114.228</td> <th>  Cond. No.          </th>  <td>    3.70</td>  \n",
       "</tr>\n",
       "</table><br/><br/>Notes:<br/>[1] Standard Errors assume that the covariance matrix of the errors is correctly specified."
      ],
      "text/plain": [
       "<class 'statsmodels.iolib.summary.Summary'>\n",
       "\"\"\"\n",
       "                            OLS Regression Results                            \n",
       "==============================================================================\n",
       "Dep. Variable:                 amount   R-squared:                       0.361\n",
       "Model:                            OLS   Adj. R-squared:                  0.360\n",
       "Method:                 Least Squares   F-statistic:                     369.4\n",
       "Date:                Wed, 05 Jan 2022   Prob (F-statistic):               0.00\n",
       "Time:                        10:44:49   Log-Likelihood:                -22092.\n",
       "No. Observations:                7213   AIC:                         4.421e+04\n",
       "Df Residuals:                    7201   BIC:                         4.429e+04\n",
       "Df Model:                          11                                         \n",
       "Covariance Type:            nonrobust                                         \n",
       "==============================================================================\n",
       "                 coef    std err          t      P>|t|      [0.025      0.975]\n",
       "------------------------------------------------------------------------------\n",
       "const          9.7126      0.061    159.265      0.000       9.593       9.832\n",
       "x1            -0.0999      0.061     -1.636      0.102      -0.220       0.020\n",
       "x2            -0.0368      0.067     -0.549      0.583      -0.168       0.095\n",
       "x3            -0.5298      0.062     -8.549      0.000      -0.651      -0.408\n",
       "x4             0.1045      0.061      1.706      0.088      -0.016       0.225\n",
       "x5             0.9864      0.062     16.025      0.000       0.866       1.107\n",
       "x6             0.4410      0.061      7.181      0.000       0.321       0.561\n",
       "x7             0.0136      0.061      0.223      0.824      -0.106       0.133\n",
       "x8             0.1524      0.121      1.261      0.207      -0.084       0.389\n",
       "x9            -0.0542      0.061     -0.889      0.374      -0.174       0.065\n",
       "x10           -0.2200      0.121     -1.826      0.068      -0.456       0.016\n",
       "x11            3.8052      0.067     57.019      0.000       3.674       3.936\n",
       "==============================================================================\n",
       "Omnibus:                     7481.307   Durbin-Watson:                   2.003\n",
       "Prob(Omnibus):                  0.000   Jarque-Bera (JB):          3741535.182\n",
       "Skew:                          -4.404   Prob(JB):                         0.00\n",
       "Kurtosis:                     114.228   Cond. No.                         3.70\n",
       "==============================================================================\n",
       "\n",
       "Notes:\n",
       "[1] Standard Errors assume that the covariance matrix of the errors is correctly specified.\n",
       "\"\"\""
      ]
     },
     "execution_count": 106,
     "metadata": {},
     "output_type": "execute_result"
    }
   ],
   "source": [
    "import statsmodels.api as sm\n",
    "# Fit the model to the training data and testing data\n",
    "x_train_sm = sm.add_constant(x_train)\n",
    "x_test_sm = sm.add_constant(x_test)\n",
    "model = sm.OLS(y_train,x_train_sm)\n",
    "results = model.fit()\n",
    "# Making predictions using the model\n",
    "linear_ypred = results.predict(x_test_sm)\n",
    "results.summary()"
   ]
  },
  {
   "cell_type": "code",
   "execution_count": 107,
   "metadata": {},
   "outputs": [
    {
     "name": "stdout",
     "output_type": "stream",
     "text": [
      "Mean_Squared_Error: 19.688015386042704\n",
      "Root_Mean_Squared_Error 4.4371179143722\n",
      "r_squared_value: 0.5159814642491618\n"
     ]
    }
   ],
   "source": [
    "from sklearn import metrics\n",
    "linear_mse = metrics.mean_squared_error(y_test,linear_ypred)\n",
    "linear_r2 = metrics.r2_score(y_test,linear_ypred)\n",
    "from math import sqrt\n",
    "linear_rmse = sqrt(linear_mse)\n",
    "print('Mean_Squared_Error:',linear_mse)\n",
    "print('Root_Mean_Squared_Error',linear_rmse)\n",
    "print('r_squared_value:',linear_r2)"
   ]
  },
  {
   "cell_type": "markdown",
   "metadata": {},
   "source": [
    "## "
   ]
  },
  {
   "cell_type": "markdown",
   "metadata": {},
   "source": [
    "## Decision Tree"
   ]
  },
  {
   "cell_type": "code",
   "execution_count": 108,
   "metadata": {},
   "outputs": [],
   "source": [
    "from sklearn.tree import DecisionTreeRegressor"
   ]
  },
  {
   "cell_type": "code",
   "execution_count": 109,
   "metadata": {},
   "outputs": [],
   "source": [
    "dt=DecisionTreeRegressor()"
   ]
  },
  {
   "cell_type": "code",
   "execution_count": 110,
   "metadata": {},
   "outputs": [
    {
     "data": {
      "text/plain": [
       "DecisionTreeRegressor()"
      ]
     },
     "execution_count": 110,
     "metadata": {},
     "output_type": "execute_result"
    }
   ],
   "source": [
    "dt.fit(x_train,y_train)"
   ]
  },
  {
   "cell_type": "code",
   "execution_count": 111,
   "metadata": {},
   "outputs": [],
   "source": [
    "ypred=dt.predict(x_test)"
   ]
  },
  {
   "cell_type": "code",
   "execution_count": 112,
   "metadata": {},
   "outputs": [
    {
     "data": {
      "text/plain": [
       "array([6., 8., 8., 7., 7.])"
      ]
     },
     "execution_count": 112,
     "metadata": {},
     "output_type": "execute_result"
    }
   ],
   "source": [
    "ypred[0:5]"
   ]
  },
  {
   "cell_type": "code",
   "execution_count": 113,
   "metadata": {},
   "outputs": [],
   "source": [
    "from sklearn import metrics"
   ]
  },
  {
   "cell_type": "code",
   "execution_count": 114,
   "metadata": {},
   "outputs": [
    {
     "name": "stdout",
     "output_type": "stream",
     "text": [
      "Mean_Squared_Error: 22.076002587322122\n",
      "Root_Mean_Squared_Error 4.698510677578813\n",
      "R2_for_rf: 0.4572741722295508\n"
     ]
    }
   ],
   "source": [
    "dt_mse = metrics.mean_squared_error(y_test, ypred)\n",
    "dt_rmse = sqrt(dt_mse)\n",
    "r_squared_dt = metrics.r2_score(y_test,ypred)\n",
    "print('Mean_Squared_Error:',dt_mse)\n",
    "print('Root_Mean_Squared_Error',dt_rmse)\n",
    "print('R2_for_rf:',r_squared_dt)"
   ]
  },
  {
   "cell_type": "markdown",
   "metadata": {},
   "source": [
    "## "
   ]
  },
  {
   "cell_type": "markdown",
   "metadata": {},
   "source": [
    "### RandomForest"
   ]
  },
  {
   "cell_type": "code",
   "execution_count": 115,
   "metadata": {},
   "outputs": [],
   "source": [
    "from sklearn.ensemble import RandomForestRegressor"
   ]
  },
  {
   "cell_type": "code",
   "execution_count": 116,
   "metadata": {},
   "outputs": [],
   "source": [
    "rf=RandomForestRegressor()"
   ]
  },
  {
   "cell_type": "code",
   "execution_count": 117,
   "metadata": {},
   "outputs": [
    {
     "data": {
      "text/plain": [
       "RandomForestRegressor()"
      ]
     },
     "execution_count": 117,
     "metadata": {},
     "output_type": "execute_result"
    }
   ],
   "source": [
    "rf.fit(x_train,y_train)"
   ]
  },
  {
   "cell_type": "code",
   "execution_count": 118,
   "metadata": {},
   "outputs": [],
   "source": [
    "ypred1=rf.predict(x_test)"
   ]
  },
  {
   "cell_type": "code",
   "execution_count": 119,
   "metadata": {},
   "outputs": [
    {
     "name": "stdout",
     "output_type": "stream",
     "text": [
      "(3092,)\n",
      "[8.76 6.44 8.48 6.96 4.31]\n"
     ]
    }
   ],
   "source": [
    "print(ypred1.shape)\n",
    "print(ypred1[0:5])"
   ]
  },
  {
   "cell_type": "code",
   "execution_count": 120,
   "metadata": {},
   "outputs": [],
   "source": [
    "from sklearn import metrics"
   ]
  },
  {
   "cell_type": "code",
   "execution_count": 121,
   "metadata": {},
   "outputs": [
    {
     "name": "stdout",
     "output_type": "stream",
     "text": [
      "Mean_Squared_Error: 12.123989327296249\n",
      "Root_Mean_Squared_Error 3.481951942129048\n",
      "R2_for_rf: 0.7019386948561179\n"
     ]
    }
   ],
   "source": [
    "# Model performance metrics\n",
    "from math import sqrt\n",
    "\n",
    "rf_mse = metrics.mean_squared_error(y_test, ypred1)\n",
    "rf_rmse = sqrt(rf_mse)\n",
    "r_squared_rf = metrics.r2_score(y_test,ypred1)\n",
    "print('Mean_Squared_Error:',rf_mse)\n",
    "print('Root_Mean_Squared_Error',rf_rmse)\n",
    "print('R2_for_rf:',r_squared_rf)"
   ]
  },
  {
   "cell_type": "markdown",
   "metadata": {},
   "source": [
    "### Random Forest with Hyperparameter Tunning"
   ]
  },
  {
   "cell_type": "code",
   "execution_count": 122,
   "metadata": {},
   "outputs": [
    {
     "name": "stdout",
     "output_type": "stream",
     "text": [
      "Best parameters:\n",
      "{'n_estimators': 300, 'min_samples_split': 2, 'min_samples_leaf': 2, 'max_features': 'auto', 'max_depth': 20, 'criterion': 'mse', 'bootstrap': True}\n"
     ]
    }
   ],
   "source": [
    "# Tuning hyperparameters for RandomForestRegressor model\n",
    "from sklearn.model_selection import RandomizedSearchCV\n",
    "parameter_grid = \\\n",
    "    {\n",
    "        \"n_estimators\": [10,100,200,300],\n",
    "        \"criterion\": [\"mse\"],\n",
    "         \"max_features\": ['auto'],\n",
    "        \"max_depth\": [ 20,30],\n",
    "        \"min_samples_split\": [2, 5,7],\n",
    "        \"min_samples_leaf\": [1,2,5],\n",
    "        \"bootstrap\": [True, False],\n",
    "    }\n",
    "\n",
    "clf = RandomizedSearchCV(RandomForestRegressor(random_state=3), \n",
    "                         parameter_grid, cv=3, n_jobs=4, \n",
    "                         n_iter=10, random_state=3)\n",
    "\n",
    "clf.fit(x_train, y_train)\n",
    "print(\"Best parameters:\")\n",
    "print(clf.best_params_)"
   ]
  },
  {
   "cell_type": "code",
   "execution_count": 123,
   "metadata": {},
   "outputs": [],
   "source": [
    "# Use best parameters to train the model\n",
    "rf_model = RandomForestRegressor(**clf.best_params_)\n",
    "# Fit the model to training data\n",
    "rf_model.fit(x_train, y_train)\n",
    "rf_ypred1 = rf_model.predict(x_test)"
   ]
  },
  {
   "cell_type": "code",
   "execution_count": 124,
   "metadata": {},
   "outputs": [
    {
     "name": "stdout",
     "output_type": "stream",
     "text": [
      "Mean_Squared_Error: 12.142927526492118\n",
      "Root_Mean_Squared_Error 3.481951942129048\n",
      "R2_for_rf: 0.7014731101201857\n"
     ]
    }
   ],
   "source": [
    "# Model performance metrics\n",
    "rf_mse1 = metrics.mean_squared_error(y_test, rf_ypred1)\n",
    "rf_rmse1 = sqrt(rf_mse)\n",
    "r_squared_rf2 = metrics.r2_score(y_test,rf_ypred1)\n",
    "print('Mean_Squared_Error:',rf_mse1)\n",
    "print('Root_Mean_Squared_Error',rf_rmse1)\n",
    "print('R2_for_rf:',r_squared_rf2)"
   ]
  },
  {
   "cell_type": "markdown",
   "metadata": {},
   "source": [
    "##  Support Vector Machines (Regressor)"
   ]
  },
  {
   "cell_type": "code",
   "execution_count": 125,
   "metadata": {},
   "outputs": [],
   "source": [
    "from sklearn.svm import SVR"
   ]
  },
  {
   "cell_type": "code",
   "execution_count": 126,
   "metadata": {},
   "outputs": [],
   "source": [
    "svcregressor = SVR(kernel='rbf')"
   ]
  },
  {
   "cell_type": "code",
   "execution_count": 127,
   "metadata": {},
   "outputs": [
    {
     "data": {
      "text/plain": [
       "SVR()"
      ]
     },
     "execution_count": 127,
     "metadata": {},
     "output_type": "execute_result"
    }
   ],
   "source": [
    "svcregressor.fit(x_train,y_train)"
   ]
  },
  {
   "cell_type": "code",
   "execution_count": 128,
   "metadata": {},
   "outputs": [],
   "source": [
    "y_pred3 = svcregressor.predict(x_test)"
   ]
  },
  {
   "cell_type": "code",
   "execution_count": 129,
   "metadata": {},
   "outputs": [
    {
     "name": "stdout",
     "output_type": "stream",
     "text": [
      "Mean_Squared_Error: 11.188954914078804\n",
      "Root_Mean_Squared_Error 3.481951942129048\n",
      "R2_for_rf: 0.7249259781697521\n"
     ]
    }
   ],
   "source": [
    "# Model performance metrics\n",
    "svr_mse = metrics.mean_squared_error(y_test, y_pred3)\n",
    "svr_rmse = sqrt(rf_mse)\n",
    "r_squared_svr = metrics.r2_score(y_test,y_pred3)\n",
    "print('Mean_Squared_Error:',svr_mse)\n",
    "print('Root_Mean_Squared_Error',svr_rmse)\n",
    "print('R2_for_rf:',r_squared_svr)"
   ]
  },
  {
   "cell_type": "markdown",
   "metadata": {},
   "source": [
    "## SVM with Hyperparameter Tunning"
   ]
  },
  {
   "cell_type": "code",
   "execution_count": 130,
   "metadata": {},
   "outputs": [
    {
     "name": "stdout",
     "output_type": "stream",
     "text": [
      "Best parameters:\n",
      "{'kernel': 'rbf', 'gamma': 0.01, 'degree': 5, 'coef0': 0, 'C': 1}\n"
     ]
    }
   ],
   "source": [
    "# Tuning hyperparameters for SVM model\n",
    "from sklearn.model_selection import RandomizedSearchCV\n",
    "from sklearn.svm import SVR\n",
    "\n",
    "parameter_space = \\\n",
    "    {\n",
    "        \"kernel\": [ \"rbf\", \"sigmoid\"],\n",
    "        \"degree\": [3, 5],\n",
    "        \"gamma\":[0.01,0.1,1],\n",
    "        \"C\": [1, 10],\n",
    "    }\n",
    "\n",
    "clf = RandomizedSearchCV(SVR(), parameter_space, cv=3, n_jobs=4)\n",
    "\n",
    "clf.fit(x_train, y_train)\n",
    "print(\"Best parameters:\")\n",
    "print(clf.best_params_)"
   ]
  },
  {
   "cell_type": "code",
   "execution_count": 131,
   "metadata": {},
   "outputs": [],
   "source": [
    "# Use best parameters to train the SVM model \n",
    "svr_model = SVR(**clf.best_params_)\n",
    "# Fit the model to training data\n",
    "svr_model.fit(x_train, y_train)\n",
    "# Making predictions using the model\n",
    "svm_ypred = svr_model.predict(x_test)"
   ]
  },
  {
   "cell_type": "code",
   "execution_count": 132,
   "metadata": {},
   "outputs": [
    {
     "name": "stdout",
     "output_type": "stream",
     "text": [
      "Mean_Squared_Error: 9.520676391542175\n",
      "Root_Mean_Squared_Error 3.0855593320404933\n",
      "R2_for_svm: 0.7659396462246435\n"
     ]
    }
   ],
   "source": [
    "# Model performance metrics\n",
    "svm_mse = metrics.mean_squared_error(y_test, svm_ypred)\n",
    "svm_rmse = sqrt(svm_mse)\n",
    "r_squared_svm = metrics.r2_score(y_test,svm_ypred)\n",
    "print('Mean_Squared_Error:',svm_mse)\n",
    "print('Root_Mean_Squared_Error',svm_rmse)\n",
    "print('R2_for_svm:',r_squared_svm)"
   ]
  },
  {
   "cell_type": "markdown",
   "metadata": {},
   "source": [
    "## XG Boost Regressor"
   ]
  },
  {
   "cell_type": "code",
   "execution_count": 133,
   "metadata": {},
   "outputs": [],
   "source": [
    "from xgboost import XGBRegressor"
   ]
  },
  {
   "cell_type": "code",
   "execution_count": 134,
   "metadata": {},
   "outputs": [],
   "source": [
    "# Instantiation\n",
    "xgb_r =XGBRegressor(objective ='reg:linear',\n",
    "                  n_estimators = 10, seed = 123)"
   ]
  },
  {
   "cell_type": "code",
   "execution_count": 135,
   "metadata": {},
   "outputs": [
    {
     "name": "stdout",
     "output_type": "stream",
     "text": [
      "[10:46:52] WARNING: C:/Users/Administrator/workspace/xgboost-win64_release_1.5.1/src/objective/regression_obj.cu:188: reg:linear is now deprecated in favor of reg:squarederror.\n"
     ]
    }
   ],
   "source": [
    "# Fitting the model\n",
    "xgb_r.fit(x_train, y_train)\n",
    "  \n",
    "# Predict the model\n",
    "pred = xgb_r.predict(x_test)"
   ]
  },
  {
   "cell_type": "code",
   "execution_count": 136,
   "metadata": {},
   "outputs": [
    {
     "name": "stdout",
     "output_type": "stream",
     "text": [
      "Mean_Squared_Error: 11.397556648890664\n",
      "Root_Mean_Squared_Error 3.376026754765232\n",
      "R2_for XGB: 0.7197976244855966\n"
     ]
    }
   ],
   "source": [
    "# Model performance metrics\n",
    "xgb_mse = metrics.mean_squared_error(y_test,pred)\n",
    "xgb_rmse = sqrt(xgb_mse)\n",
    "r_squared_xgb = metrics.r2_score(y_test,pred)\n",
    "print('Mean_Squared_Error:',xgb_mse)\n",
    "print('Root_Mean_Squared_Error',xgb_rmse)\n",
    "print('R2_for XGB:',r_squared_xgb)"
   ]
  },
  {
   "cell_type": "markdown",
   "metadata": {},
   "source": [
    "## "
   ]
  },
  {
   "cell_type": "markdown",
   "metadata": {},
   "source": [
    "## Model Evaluation"
   ]
  },
  {
   "cell_type": "code",
   "execution_count": 137,
   "metadata": {
    "scrolled": true
   },
   "outputs": [
    {
     "data": {
      "text/html": [
       "<div>\n",
       "<style scoped>\n",
       "    .dataframe tbody tr th:only-of-type {\n",
       "        vertical-align: middle;\n",
       "    }\n",
       "\n",
       "    .dataframe tbody tr th {\n",
       "        vertical-align: top;\n",
       "    }\n",
       "\n",
       "    .dataframe thead th {\n",
       "        text-align: right;\n",
       "    }\n",
       "</style>\n",
       "<table border=\"1\" class=\"dataframe\">\n",
       "  <thead>\n",
       "    <tr style=\"text-align: right;\">\n",
       "      <th></th>\n",
       "      <th>Method</th>\n",
       "      <th>Accuracy</th>\n",
       "    </tr>\n",
       "  </thead>\n",
       "  <tbody>\n",
       "    <tr>\n",
       "      <th>0</th>\n",
       "      <td>Linear Regression</td>\n",
       "      <td>0.515981</td>\n",
       "    </tr>\n",
       "    <tr>\n",
       "      <th>1</th>\n",
       "      <td>Decision Tree</td>\n",
       "      <td>0.457274</td>\n",
       "    </tr>\n",
       "    <tr>\n",
       "      <th>2</th>\n",
       "      <td>Random Forest</td>\n",
       "      <td>0.701939</td>\n",
       "    </tr>\n",
       "    <tr>\n",
       "      <th>3</th>\n",
       "      <td>Rf Hyperparameter</td>\n",
       "      <td>0.701473</td>\n",
       "    </tr>\n",
       "    <tr>\n",
       "      <th>4</th>\n",
       "      <td>Support Vector Machines</td>\n",
       "      <td>0.724926</td>\n",
       "    </tr>\n",
       "    <tr>\n",
       "      <th>5</th>\n",
       "      <td>SVM Hyperparameter</td>\n",
       "      <td>0.765940</td>\n",
       "    </tr>\n",
       "    <tr>\n",
       "      <th>6</th>\n",
       "      <td>XGBoost Regressor</td>\n",
       "      <td>0.719798</td>\n",
       "    </tr>\n",
       "  </tbody>\n",
       "</table>\n",
       "</div>"
      ],
      "text/plain": [
       "                    Method  Accuracy\n",
       "0        Linear Regression  0.515981\n",
       "1            Decision Tree  0.457274\n",
       "2            Random Forest  0.701939\n",
       "3        Rf Hyperparameter  0.701473\n",
       "4  Support Vector Machines  0.724926\n",
       "5       SVM Hyperparameter  0.765940\n",
       "6        XGBoost Regressor  0.719798"
      ]
     },
     "execution_count": 137,
     "metadata": {},
     "output_type": "execute_result"
    }
   ],
   "source": [
    "# Compare model performance\n",
    "Model_performance = pd.DataFrame({'Method':['Linear Regression','Decision Tree','Random Forest','Rf Hyperparameter','Support Vector Machines','SVM Hyperparameter','XGBoost Regressor'],\n",
    "                       'Accuracy':[linear_r2 ,r_squared_dt,r_squared_rf,r_squared_rf2,r_squared_svr,r_squared_svm,r_squared_xgb]})\n",
    "Model_performance "
   ]
  },
  {
   "cell_type": "markdown",
   "metadata": {},
   "source": [
    "### We can conclude from above dataframe that, the accuracy of the SVM Hyperprameter has higher accuracy than other models. Hence, The optimum model is SVM Hyperparameter with accuracy  ~ 77%."
   ]
  },
  {
   "cell_type": "markdown",
   "metadata": {},
   "source": [
    "## "
   ]
  },
  {
   "cell_type": "markdown",
   "metadata": {},
   "source": [
    "### Possible improvements\n",
    "\n",
    "Try to scale up to use more training samples, right now we only use ~20% of the dataset."
   ]
  },
  {
   "cell_type": "code",
   "execution_count": null,
   "metadata": {},
   "outputs": [],
   "source": []
  }
 ],
 "metadata": {
  "kernelspec": {
   "display_name": "Python 3",
   "language": "python",
   "name": "python3"
  },
  "language_info": {
   "codemirror_mode": {
    "name": "ipython",
    "version": 3
   },
   "file_extension": ".py",
   "mimetype": "text/x-python",
   "name": "python",
   "nbconvert_exporter": "python",
   "pygments_lexer": "ipython3",
   "version": "3.8.8"
  }
 },
 "nbformat": 4,
 "nbformat_minor": 4
}
